{
  "cells": [
    {
      "cell_type": "code",
      "source": [
        "!pip install geopandas==0.9.0"
      ],
      "metadata": {
        "id": "mkDDUBAS6Ktl"
      },
      "execution_count": null,
      "outputs": []
    },
    {
      "cell_type": "code",
      "execution_count": 2,
      "metadata": {
        "id": "V_BZMhDC5_8Z"
      },
      "outputs": [],
      "source": [
        "import geopandas as gpd\n",
        "import pandas as pd\n",
        "import matplotlib.pyplot as plt\n",
        "import numpy as np\n",
        "\n",
        "from sklearn.preprocessing import FunctionTransformer\n",
        "from shapely.geometry import Point"
      ]
    },
    {
      "cell_type": "code",
      "source": [
        "from google.colab import drive\n",
        "drive.mount('/content/drive')"
      ],
      "metadata": {
        "id": "zk-vM3I66e8c",
        "outputId": "12554844-329e-4a47-f44c-ed4a4bbe5304",
        "colab": {
          "base_uri": "https://localhost:8080/"
        }
      },
      "execution_count": 5,
      "outputs": [
        {
          "output_type": "stream",
          "name": "stdout",
          "text": [
            "Mounted at /content/drive\n"
          ]
        }
      ]
    },
    {
      "cell_type": "code",
      "source": [
        "DATA_PATH = 'drive/MyDrive/data'\n",
        "lsms_path = f'{DATA_PATH}/processed/_all_real.csv'\n",
        "country_shapes_path = f'{DATA_PATH}/country_shapes'\n",
        "FIGS_PATH = 'drive/MyDrive/figs'"
      ],
      "metadata": {
        "id": "mR7Gaa4R6CvU"
      },
      "execution_count": 12,
      "outputs": []
    },
    {
      "cell_type": "code",
      "execution_count": 13,
      "metadata": {
        "id": "UPkYaKrk5_8j",
        "outputId": "15681062-b4d1-46c2-b8c3-048bcfe9522d",
        "colab": {
          "base_uri": "https://localhost:8080/"
        }
      },
      "outputs": [
        {
          "output_type": "stream",
          "name": "stderr",
          "text": [
            "/usr/local/lib/python3.8/dist-packages/pyproj/crs/crs.py:141: FutureWarning: '+init=<authority>:<code>' syntax is deprecated. '<authority>:<code>' is the preferred initialization method. When making the change, be mindful of axis order changes: https://pyproj4.github.io/pyproj/stable/gotchas.html#axis-order-changes-in-proj-6\n",
            "  in_crs_string = _prepare_from_proj_string(in_crs_string)\n"
          ]
        }
      ],
      "source": [
        "df = gpd.read_file(lsms_path)\n",
        "df = df[df.lat != \"0.0\"]\n",
        "df = df[df.lon != \"0.0\"]\n",
        "crs = {\"init\": \"epsg:4326\"}\n",
        "geometry = [Point(xy) for xy in zip(pd.to_numeric(df.lon), pd.to_numeric(df.lat))]\n",
        "geo_df = gpd.GeoDataFrame(df, \n",
        "                          crs = crs, \n",
        "                          geometry = geometry)\n",
        "geo_df[\"cons_pc\"] = pd.to_numeric(geo_df[\"cons_pc\"])"
      ]
    },
    {
      "cell_type": "code",
      "source": [
        "gpd.datasets.available"
      ],
      "metadata": {
        "id": "jMgon3rpA6jC",
        "outputId": "9842c464-ecbf-4d5d-f71a-729686159bf2",
        "colab": {
          "base_uri": "https://localhost:8080/"
        }
      },
      "execution_count": 17,
      "outputs": [
        {
          "output_type": "execute_result",
          "data": {
            "text/plain": [
              "['naturalearth_cities', 'naturalearth_lowres', 'nybb']"
            ]
          },
          "metadata": {},
          "execution_count": 17
        }
      ]
    },
    {
      "cell_type": "code",
      "execution_count": 14,
      "metadata": {
        "id": "wL5Ry0ys5_8m"
      },
      "outputs": [],
      "source": [
        "def get_shape(country):\n",
        "    shape_df = gpd.read_file(f\"{country_shapes_path}/{country}.zip\")\n",
        "    return shape_df"
      ]
    },
    {
      "cell_type": "code",
      "execution_count": null,
      "metadata": {
        "id": "tV94PSNE5_8n"
      },
      "outputs": [],
      "source": [
        "countries = df.groupby([\"country\"]).groups.keys()\n",
        "for country in countries:\n",
        "    shape = get_shape(country)\n",
        "    tmp_df = df.loc[df.country == country]\n",
        "    years = tmp_df.groupby([\"year\"]).groups.keys()\n",
        "    for year in years:\n",
        "        year_df = tmp_df.loc[tmp_df.year == year]\n",
        "        fig, ax = plt.subplots(figsize = (10,10))\n",
        "        ax.axis(\"off\")\n",
        "        ax.set_title(f\"{country} Clusters ({year})\", fontsize=20)\n",
        "        shape.to_crs(epsg=4326).plot(ax=ax, color=\"black\")\n",
        "        year_df.plot(column=\"cons_pc\", ax=ax, cmap = \"OrRd\", alpha = .5, legend = True, legend_kwds={\"shrink\": 0.5})\n",
        "        fig.savefig(f\"{FIGS_PATH}/{country}_{year}_clusters.pdf\", bbox_inches=\"tight\", dpi=600)"
      ]
    }
  ],
  "metadata": {
    "kernelspec": {
      "display_name": "Python 3.9.12 64-bit",
      "language": "python",
      "name": "python3"
    },
    "language_info": {
      "codemirror_mode": {
        "name": "ipython",
        "version": 3
      },
      "file_extension": ".py",
      "mimetype": "text/x-python",
      "name": "python",
      "nbconvert_exporter": "python",
      "pygments_lexer": "ipython3",
      "version": "3.9.12"
    },
    "orig_nbformat": 4,
    "vscode": {
      "interpreter": {
        "hash": "b0fa6594d8f4cbf19f97940f81e996739fb7646882a419484c72d19e05852a7e"
      }
    },
    "colab": {
      "provenance": []
    }
  },
  "nbformat": 4,
  "nbformat_minor": 0
}
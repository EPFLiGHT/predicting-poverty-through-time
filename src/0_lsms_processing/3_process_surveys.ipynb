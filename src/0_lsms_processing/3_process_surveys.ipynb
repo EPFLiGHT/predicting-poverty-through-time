{
 "cells": [
  {
   "cell_type": "markdown",
   "metadata": {},
   "source": [
    "# Process Surveys\n",
    "We need to process the raw data, so we can use it to scrape images and as a base for our models. From the LSMS surveys we need two files - the one which contains the geovariables (lat and lon of the cluster) and one which contains the consumption. Sometimes it is a bit tricky to get the data, since they are linked through some keys which lays in other files."
   ]
  },
  {
   "cell_type": "code",
   "execution_count": 1,
   "metadata": {},
   "outputs": [
    {
     "name": "stdout",
     "output_type": "stream",
     "text": [
      "/Users/anashakim/Desktop/Machine Learning/Master/MLProject/predicting-poverty-through-time/src\n"
     ]
    }
   ],
   "source": [
    "%cd ..\n",
    "%reload_ext autoreload\n",
    "%autoreload 2"
   ]
  },
  {
   "cell_type": "code",
   "execution_count": 2,
   "metadata": {},
   "outputs": [],
   "source": [
    "from lib.lsms import LSMS\n",
    "from tqdm import tqdm\n",
    "import json\n",
    "import os\n",
    "import pandas as pd"
   ]
  },
  {
   "cell_type": "code",
   "execution_count": 3,
   "metadata": {},
   "outputs": [],
   "source": [
    "def tza(data: any, year: str, ppp: int) -> pd.DataFrame:\n",
    "    \"\"\"Function to process the Tanzania Survey of 2015. The link between the coordinates of the clusters is done through `hh_sec_a.csv`.\n",
    "\n",
    "    Args:\n",
    "        data (any): json entry of the current data\n",
    "        year (str): current year (should be 2015 in the gives case)\n",
    "        ppp (int): ppp, for nominal and real cons\n",
    "\n",
    "    Returns:\n",
    "        pd.DataFrame: processed dataframe\n",
    "\n",
    "    \"\"\"\n",
    "    df: pd.DataFrame = pd.read_csv(f\"../{data['cluster_path']}\")\n",
    "    df_hh: pd.DataFrame = pd.read_csv(f\"../{data['hh_path']}\")\n",
    "    tmp: pd.DataFrame = df_hh.merge(df, on=[\"clusterid\"])\n",
    "    name: str = \"TZA-Areallyrandomfile39493208943.csv\"  # tmp file\n",
    "    tmp.to_csv(name)\n",
    "    lsms: LSMS = LSMS(\n",
    "        \"TZA\", year, cons_path=f\"../{data['cons_path']}\", hh_path=name)\n",
    "    lsms.read_data()\n",
    "    lsms.process_survey(cons_key=data[\"cons_key\"], hhsize_key=data[\"hhsize_key\"], lat_key=data[\"lat_key\"], lon_key=data[\"lon_key\"],\n",
    "                        hhid_key=data[\"hhid_key\"], multiply=data[\"multiply\"], rural_key=data[\"rural_key\"], rural_tag=data[\"rural\"], urban_tag=data[\"urban\"])\n",
    "    lsms.write_processed(f\"../data/lsms/processed/TZA_{year}.csv\")\n",
    "    os.remove(name)\n",
    "    return lsms.processed\n"
   ]
  },
  {
   "cell_type": "markdown",
   "metadata": {},
   "source": [
    "Loads json file which contains the rules for processing. Have a look in the Readme.md in the `data/LSMS` folder to understand the structure of the file. It can be extended easily."
   ]
  },
  {
   "cell_type": "code",
   "execution_count": 4,
   "metadata": {},
   "outputs": [],
   "source": [
    "with open(\"../data/lsms/country_keys.json\", \"r\") as f:\n",
    "    data = json.load(f)"
   ]
  },
  {
   "cell_type": "markdown",
   "metadata": {},
   "source": [
    "It's convenient to have one large file with all countries included. So we will also save it."
   ]
  },
  {
   "cell_type": "code",
   "execution_count": 5,
   "metadata": {},
   "outputs": [],
   "source": [
    "def run(path: str, nominal: bool = True):\n",
    "    \"\"\"\n",
    "    Helper function to get LSMS. \n",
    "\n",
    "    Args:\n",
    "        path (str): Path to write complete dataframe\n",
    "        nominal (bool): Set mode for nominal or real consumption \n",
    "    \n",
    "    \"\"\"\n",
    "\n",
    "    if nominal:\n",
    "        ppp = 1\n",
    "    else:\n",
    "        ppp = -1\n",
    "\n",
    "    master_df: pd.DataFrame = pd.DataFrame()\n",
    "    for country in tqdm(data):\n",
    "        for year in data[country]:\n",
    "            cur = data[country][year]\n",
    "            if cur[\"special\"]:\n",
    "                if country == \"TZA\" and year == \"2014\":\n",
    "                    tmp_df: pd.DataFrame = tza(cur, year, ppp)\n",
    "                    master_df = pd.concat([master_df,tmp_df])\n",
    "                    continue\n",
    "            lsms = LSMS(country, year, cons_path=f\"../{cur['cons_path']}\", hh_path=f\"../{cur['hh_path']}\", ppp=ppp)\n",
    "            lsms.read_data()\n",
    "            lsms.process_survey(cons_key=cur[\"cons_key\"], hhsize_key=cur[\"hhsize_key\"], lat_key=cur[\"lat_key\"], lon_key=cur[\"lon_key\"], hhid_key=cur[\"hhid_key\"], rural_key=cur[\"rural_key\"], rural_tag=cur[\"rural\"], urban_tag=cur[\"urban\"],multiply=cur[\"multiply\"])\n",
    "            \n",
    "            if nominal:\n",
    "                ending = \"nominal\"\n",
    "            else:\n",
    "                ending = \"real\" \n",
    "            lsms.write_processed(f\"../data/lsms/processed/{country}_{year}_{ending}.csv\")\n",
    "            master_df = pd.concat([master_df,lsms.processed])\n",
    "    master_df.to_csv(path, index=False)"
   ]
  },
  {
   "cell_type": "code",
   "execution_count": 6,
   "outputs": [],
   "source": [
    "def runCountry(country:str, year:str, nominal: bool = True):\n",
    "    \"\"\"\n",
    "    Helper function to get LSMS.\n",
    "\n",
    "    Args:\n",
    "        path (str): Path to write complete dataframe\n",
    "        nominal (bool): Set mode for nominal or real consumption\n",
    "\n",
    "    \"\"\"\n",
    "\n",
    "    if nominal:\n",
    "        ppp = 1\n",
    "    else:\n",
    "        ppp = -1\n",
    "\n",
    "    cur = data[country][year]\n",
    "    lsms = LSMS(country, year, cons_path=f\"../{cur['cons_path']}\", hh_path=f\"../{cur['hh_path']}\", ppp=ppp)\n",
    "    lsms.read_data()\n",
    "    lsms.process_survey(cons_key=cur[\"cons_key\"], hhsize_key=cur[\"hhsize_key\"], lat_key=cur[\"lat_key\"], lon_key=cur[\"lon_key\"], hhid_key=cur[\"hhid_key\"], rural_key=cur[\"rural_key\"], rural_tag=cur[\"rural\"], urban_tag=cur[\"urban\"],multiply=cur[\"multiply\"])\n",
    "\n",
    "    if nominal:\n",
    "        ending = \"nominal\"\n",
    "    else:\n",
    "        ending = \"real\"\n",
    "    lsms.write_processed(f\"../data/lsms/processed/{country}_{year}_{ending}.csv\")"
   ],
   "metadata": {
    "collapsed": false
   }
  },
  {
   "cell_type": "code",
   "execution_count": 7,
   "metadata": {},
   "outputs": [
    {
     "name": "stderr",
     "output_type": "stream",
     "text": [
      "  0%|          | 0/6 [00:00<?, ?it/s]"
     ]
    },
    {
     "name": "stdout",
     "output_type": "stream",
     "text": [
      "sav\n",
      "sav\n"
     ]
    },
    {
     "name": "stderr",
     "output_type": "stream",
     "text": [
      "100%|██████████| 6/6 [00:02<00:00,  2.80it/s]\n",
      "  0%|          | 0/6 [00:00<?, ?it/s]"
     ]
    },
    {
     "name": "stdout",
     "output_type": "stream",
     "text": [
      "sav\n",
      "sav\n"
     ]
    },
    {
     "name": "stderr",
     "output_type": "stream",
     "text": [
      "100%|██████████| 6/6 [00:05<00:00,  1.01it/s]\n"
     ]
    }
   ],
   "source": [
    "run(\"../data/lsms/processed/_all_nominal.csv\")\n",
    "run(\"../data/lsms/processed/_all_real.csv\", False)"
   ]
  }
 ],
 "metadata": {
  "kernelspec": {
   "display_name": "Python 3.9.12 64-bit",
   "language": "python",
   "name": "python3"
  },
  "language_info": {
   "codemirror_mode": {
    "name": "ipython",
    "version": 3
   },
   "file_extension": ".py",
   "mimetype": "text/x-python",
   "name": "python",
   "nbconvert_exporter": "python",
   "pygments_lexer": "ipython3",
   "version": "3.9.12"
  },
  "orig_nbformat": 4,
  "vscode": {
   "interpreter": {
    "hash": "b0fa6594d8f4cbf19f97940f81e996739fb7646882a419484c72d19e05852a7e"
   }
  }
 },
 "nbformat": 4,
 "nbformat_minor": 2
}

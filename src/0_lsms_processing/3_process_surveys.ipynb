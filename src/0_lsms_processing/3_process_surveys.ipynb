{
 "cells": [
  {
   "cell_type": "markdown",
   "metadata": {},
   "source": [
    "# Process Surveys\n",
    "We need to process the raw data, so we can use it to scrape images and as a base for our models. From the LSMS surveys we need two files - the one which contains the geovariables (lat and lon of the cluster) and one which contains the consumption. Sometimes it is a bit tricky to get the data, since they are linked through some keys which lays in other files."
   ]
  },
  {
   "cell_type": "code",
   "execution_count": 1,
   "outputs": [
    {
     "name": "stdout",
     "output_type": "stream",
     "text": [
      "C:\\Users\\Mohamed\\Desktop\\Master\\MA1\\ML\\ML4Science\\forked-cm110-poverty\\src\n"
     ]
    }
   ],
   "source": [
    "cd .."
   ],
   "metadata": {
    "collapsed": false
   }
  },
  {
   "cell_type": "code",
   "execution_count": 2,
   "metadata": {},
   "outputs": [],
   "source": [
    "%reload_ext autoreload\n",
    "%autoreload 2"
   ]
  },
  {
   "cell_type": "code",
   "execution_count": 3,
   "metadata": {},
   "outputs": [],
   "source": [
    "from lib.lsms import LSMS\n",
    "from bidict import  bidict\n",
    "from tqdm import tqdm\n",
    "import json\n",
    "import pandas as pd"
   ]
  },
  {
   "cell_type": "code",
   "execution_count": 4,
   "outputs": [],
   "source": [
    "with open(\"../data/lsms/country_keys.json\", \"r\") as f:\n",
    "    metadata = json.load(f)"
   ],
   "metadata": {
    "collapsed": false
   }
  },
  {
   "cell_type": "markdown",
   "metadata": {},
   "source": [
    "Loads json file which contains the rules for processing. Have a look in the Readme.md in the `data/LSMS` folder to understand the structure of the file. It can be extended easily."
   ]
  },
  {
   "cell_type": "markdown",
   "metadata": {},
   "source": [
    "It's convenient to have one large file with all countries included. So we will also save it."
   ]
  },
  {
   "cell_type": "code",
   "execution_count": 5,
   "outputs": [],
   "source": [
    "def process_set_countries(metadata: dict, countries: set[str], nominal: bool):\n",
    "    \"\"\"\n",
    "    Process a set of countries of present years in their necessary metadata and outputs aggregates data\n",
    "    processing could be done in nominal and real way\n",
    "\n",
    "    Args:\n",
    "        metadata:\n",
    "        countries:\n",
    "        nominal:\n",
    "\n",
    "    Returns:\n",
    "\n",
    "    \"\"\"\n",
    "    ppp = 1 if nominal else -1\n",
    "    master_df: pd.DataFrame = pd.DataFrame()\n",
    "    for country in tqdm(countries):\n",
    "        for year in metadata[country]:\n",
    "            cur = metadata[country][year]\n",
    "\n",
    "            lsms = LSMS(country, year, cons_path=f\"../{cur['cons_path']}\", hh_path=f\"../{cur['hh_path']}\", ppp=ppp)\n",
    "            lsms.read_data()\n",
    "            lsms.process_survey(cons_key=cur[\"cons_key\"], hhsize_key=cur[\"hhsize_key\"], lat_key=cur[\"lat_key\"],\n",
    "                                lon_key=cur[\"lon_key\"], hhid_key=cur[\"hhid_key\"], rural_key=cur[\"rural_key\"],\n",
    "                                rural_tag=cur[\"rural\"], urban_tag=cur[\"urban\"], multiply=cur[\"multiply\"])\n",
    "            lsms.write_processed(f\"../data/lsms/processed/{country}_{year}_{'nominal' if nominal else 'real'}.csv\")\n",
    "            master_df = pd.concat([master_df, lsms.processed])\n",
    "    return master_df\n"
   ],
   "metadata": {
    "collapsed": false
   }
  },
  {
   "cell_type": "code",
   "execution_count": 13,
   "outputs": [],
   "source": [
    "from lib.process_uganda import process_uga_2009, process_uga_2010\n",
    "from lib.process_tanzania import process_tza\n",
    "\n",
    "def process_all(output: str, metadata: dict):\n",
    "    countries = {'NER', 'ETH', 'MW', 'MLI', 'NG'}\n",
    "\n",
    "    df_countries_nominal = process_set_countries(metadata=metadata,\n",
    "                                                countries=countries, nominal=True)\n",
    "    df_countries_real = process_set_countries(metadata=metadata,\n",
    "                                             countries=countries, nominal=False)\n",
    "\n",
    "    print(\"Processing Tanzania 2014..\")\n",
    "    df_tza_nominal = process_tza(metadata['TZA']['2014'], '2014', ppp=1)\n",
    "    df_tza_real = process_tza(metadata['TZA']['2014'], '2014', ppp=-1)\n",
    "    print(\"Done.\")\n",
    "\n",
    "    print(\"Processing Uganda 2009..\")\n",
    "    matched_keys = metadata[\"UGA\"][\"2009\"]\n",
    "    df_uga_2009_nominal, df_uga_2009_real = process_uga_2009(matched_keys)\n",
    "    print(\"Done.\")\n",
    "\n",
    "\n",
    "    print(\"Processing Uganda 2010..\")\n",
    "    matched_keys = metadata[\"UGA\"][\"2010\"]\n",
    "    df_uga_2010_nominal, df_uga_2010_real = process_uga_2010(matched_keys)\n",
    "    print(\"Done.\")\n",
    "\n",
    "    print(\"Collecting all data..\")\n",
    "    df_all_nominal = pd.concat([df_countries_nominal, df_tza_nominal, df_uga_2009_nominal, df_uga_2010_nominal])\n",
    "    df_all_real = pd.concat([df_countries_real, df_tza_real, df_uga_2009_real, df_uga_2010_real])\n",
    "    print(\"Done.\")\n",
    "\n",
    "\n",
    "    print(\"Writing to files..\")\n",
    "    df_all_nominal.to_csv(f'{output}/_all_nominal.csv')\n",
    "    df_all_real.to_csv(f'{output}/_all_real.csv')\n",
    "    print(\"Done.\")\n"
   ],
   "metadata": {
    "collapsed": false
   }
  },
  {
   "cell_type": "code",
   "execution_count": 11,
   "outputs": [
    {
     "name": "stderr",
     "output_type": "stream",
     "text": [
      "  0%|          | 0/5 [00:00<?, ?it/s]\n"
     ]
    },
    {
     "ename": "FileNotFoundError",
     "evalue": "[Errno 2] No such file or directory: '../data/lsms/raw/Mali/2019/MLI_2018_EHCVM_v02_M_CSV/ehcvm_welfare_mli2018.csv'",
     "output_type": "error",
     "traceback": [
      "\u001B[1;31m---------------------------------------------------------------------------\u001B[0m",
      "\u001B[1;31mFileNotFoundError\u001B[0m                         Traceback (most recent call last)",
      "Cell \u001B[1;32mIn[11], line 1\u001B[0m\n\u001B[1;32m----> 1\u001B[0m \u001B[43mprocess_all\u001B[49m\u001B[43m(\u001B[49m\u001B[38;5;124;43m'\u001B[39;49m\u001B[38;5;124;43m../data/lsms/processed\u001B[39;49m\u001B[38;5;124;43m'\u001B[39;49m\u001B[43m,\u001B[49m\u001B[43m \u001B[49m\u001B[43mmetadata\u001B[49m\u001B[43m)\u001B[49m\n",
      "Cell \u001B[1;32mIn[10], line 7\u001B[0m, in \u001B[0;36mprocess_all\u001B[1;34m(output, metadata)\u001B[0m\n\u001B[0;32m      4\u001B[0m \u001B[38;5;28;01mdef\u001B[39;00m \u001B[38;5;21mprocess_all\u001B[39m(output: \u001B[38;5;28mstr\u001B[39m, metadata: \u001B[38;5;28mdict\u001B[39m):\n\u001B[0;32m      5\u001B[0m     countries \u001B[38;5;241m=\u001B[39m {\u001B[38;5;124m'\u001B[39m\u001B[38;5;124mNER\u001B[39m\u001B[38;5;124m'\u001B[39m, \u001B[38;5;124m'\u001B[39m\u001B[38;5;124mETH\u001B[39m\u001B[38;5;124m'\u001B[39m, \u001B[38;5;124m'\u001B[39m\u001B[38;5;124mMW\u001B[39m\u001B[38;5;124m'\u001B[39m, \u001B[38;5;124m'\u001B[39m\u001B[38;5;124mMLI\u001B[39m\u001B[38;5;124m'\u001B[39m, \u001B[38;5;124m'\u001B[39m\u001B[38;5;124mNG\u001B[39m\u001B[38;5;124m'\u001B[39m}\n\u001B[1;32m----> 7\u001B[0m     df_countries_nominal \u001B[38;5;241m=\u001B[39m \u001B[43mprocess_set_countries\u001B[49m\u001B[43m(\u001B[49m\u001B[43mmetadata\u001B[49m\u001B[38;5;241;43m=\u001B[39;49m\u001B[43mmetadata\u001B[49m\u001B[43m,\u001B[49m\n\u001B[0;32m      8\u001B[0m \u001B[43m                                                \u001B[49m\u001B[43mcountries\u001B[49m\u001B[38;5;241;43m=\u001B[39;49m\u001B[43mcountries\u001B[49m\u001B[43m,\u001B[49m\u001B[43m \u001B[49m\u001B[43mnominal\u001B[49m\u001B[38;5;241;43m=\u001B[39;49m\u001B[38;5;28;43;01mTrue\u001B[39;49;00m\u001B[43m)\u001B[49m\n\u001B[0;32m      9\u001B[0m     df_countries_real \u001B[38;5;241m=\u001B[39m process_set_countries(metadata\u001B[38;5;241m=\u001B[39mmetadata,\n\u001B[0;32m     10\u001B[0m                                              countries\u001B[38;5;241m=\u001B[39mcountries, nominal\u001B[38;5;241m=\u001B[39m\u001B[38;5;28;01mFalse\u001B[39;00m)\n\u001B[0;32m     12\u001B[0m     \u001B[38;5;28mprint\u001B[39m(\u001B[38;5;124m\"\u001B[39m\u001B[38;5;124mProcessing Tanzania 2014..\u001B[39m\u001B[38;5;124m\"\u001B[39m)\n",
      "Cell \u001B[1;32mIn[5], line 21\u001B[0m, in \u001B[0;36mprocess_set_countries\u001B[1;34m(metadata, countries, nominal)\u001B[0m\n\u001B[0;32m     18\u001B[0m cur \u001B[38;5;241m=\u001B[39m metadata[country][year]\n\u001B[0;32m     20\u001B[0m lsms \u001B[38;5;241m=\u001B[39m LSMS(country, year, cons_path\u001B[38;5;241m=\u001B[39m\u001B[38;5;124mf\u001B[39m\u001B[38;5;124m\"\u001B[39m\u001B[38;5;124m../\u001B[39m\u001B[38;5;132;01m{\u001B[39;00mcur[\u001B[38;5;124m'\u001B[39m\u001B[38;5;124mcons_path\u001B[39m\u001B[38;5;124m'\u001B[39m]\u001B[38;5;132;01m}\u001B[39;00m\u001B[38;5;124m\"\u001B[39m, hh_path\u001B[38;5;241m=\u001B[39m\u001B[38;5;124mf\u001B[39m\u001B[38;5;124m\"\u001B[39m\u001B[38;5;124m../\u001B[39m\u001B[38;5;132;01m{\u001B[39;00mcur[\u001B[38;5;124m'\u001B[39m\u001B[38;5;124mhh_path\u001B[39m\u001B[38;5;124m'\u001B[39m]\u001B[38;5;132;01m}\u001B[39;00m\u001B[38;5;124m\"\u001B[39m, ppp\u001B[38;5;241m=\u001B[39mppp)\n\u001B[1;32m---> 21\u001B[0m \u001B[43mlsms\u001B[49m\u001B[38;5;241;43m.\u001B[39;49m\u001B[43mread_data\u001B[49m\u001B[43m(\u001B[49m\u001B[43m)\u001B[49m\n\u001B[0;32m     22\u001B[0m lsms\u001B[38;5;241m.\u001B[39mprocess_survey(cons_key\u001B[38;5;241m=\u001B[39mcur[\u001B[38;5;124m\"\u001B[39m\u001B[38;5;124mcons_key\u001B[39m\u001B[38;5;124m\"\u001B[39m], hhsize_key\u001B[38;5;241m=\u001B[39mcur[\u001B[38;5;124m\"\u001B[39m\u001B[38;5;124mhhsize_key\u001B[39m\u001B[38;5;124m\"\u001B[39m], lat_key\u001B[38;5;241m=\u001B[39mcur[\u001B[38;5;124m\"\u001B[39m\u001B[38;5;124mlat_key\u001B[39m\u001B[38;5;124m\"\u001B[39m],\n\u001B[0;32m     23\u001B[0m                     lon_key\u001B[38;5;241m=\u001B[39mcur[\u001B[38;5;124m\"\u001B[39m\u001B[38;5;124mlon_key\u001B[39m\u001B[38;5;124m\"\u001B[39m], hhid_key\u001B[38;5;241m=\u001B[39mcur[\u001B[38;5;124m\"\u001B[39m\u001B[38;5;124mhhid_key\u001B[39m\u001B[38;5;124m\"\u001B[39m], rural_key\u001B[38;5;241m=\u001B[39mcur[\u001B[38;5;124m\"\u001B[39m\u001B[38;5;124mrural_key\u001B[39m\u001B[38;5;124m\"\u001B[39m],\n\u001B[0;32m     24\u001B[0m                     rural_tag\u001B[38;5;241m=\u001B[39mcur[\u001B[38;5;124m\"\u001B[39m\u001B[38;5;124mrural\u001B[39m\u001B[38;5;124m\"\u001B[39m], urban_tag\u001B[38;5;241m=\u001B[39mcur[\u001B[38;5;124m\"\u001B[39m\u001B[38;5;124murban\u001B[39m\u001B[38;5;124m\"\u001B[39m], multiply\u001B[38;5;241m=\u001B[39mcur[\u001B[38;5;124m\"\u001B[39m\u001B[38;5;124mmultiply\u001B[39m\u001B[38;5;124m\"\u001B[39m])\n\u001B[0;32m     25\u001B[0m lsms\u001B[38;5;241m.\u001B[39mwrite_processed(\u001B[38;5;124mf\u001B[39m\u001B[38;5;124m\"\u001B[39m\u001B[38;5;124m../data/lsms/processed/\u001B[39m\u001B[38;5;132;01m{\u001B[39;00mcountry\u001B[38;5;132;01m}\u001B[39;00m\u001B[38;5;124m_\u001B[39m\u001B[38;5;132;01m{\u001B[39;00myear\u001B[38;5;132;01m}\u001B[39;00m\u001B[38;5;124m_\u001B[39m\u001B[38;5;132;01m{\u001B[39;00m\u001B[38;5;124m'\u001B[39m\u001B[38;5;124mnominal\u001B[39m\u001B[38;5;124m'\u001B[39m \u001B[38;5;28;01mif\u001B[39;00m nominal \u001B[38;5;28;01melse\u001B[39;00m \u001B[38;5;124m'\u001B[39m\u001B[38;5;124mreal\u001B[39m\u001B[38;5;124m'\u001B[39m\u001B[38;5;132;01m}\u001B[39;00m\u001B[38;5;124m.csv\u001B[39m\u001B[38;5;124m\"\u001B[39m)\n",
      "File \u001B[1;32m~\\Desktop\\Master\\MA1\\ML\\ML4Science\\forked-cm110-poverty\\src\\lib\\lsms.py:74\u001B[0m, in \u001B[0;36mLSMS.read_data\u001B[1;34m(self)\u001B[0m\n\u001B[0;32m     72\u001B[0m \u001B[38;5;28;01melse\u001B[39;00m:\n\u001B[0;32m     73\u001B[0m     hh_reader \u001B[38;5;241m=\u001B[39m pd\u001B[38;5;241m.\u001B[39mread_spss\n\u001B[1;32m---> 74\u001B[0m \u001B[38;5;28mself\u001B[39m\u001B[38;5;241m.\u001B[39mdf_cons \u001B[38;5;241m=\u001B[39m \u001B[43mcons_reader\u001B[49m\u001B[43m(\u001B[49m\u001B[38;5;28;43mself\u001B[39;49m\u001B[38;5;241;43m.\u001B[39;49m\u001B[43mcons_path\u001B[49m\u001B[43m)\u001B[49m\n\u001B[0;32m     75\u001B[0m \u001B[38;5;28mself\u001B[39m\u001B[38;5;241m.\u001B[39mdf_hh \u001B[38;5;241m=\u001B[39m hh_reader(\u001B[38;5;28mself\u001B[39m\u001B[38;5;241m.\u001B[39mhh_path)\n",
      "File \u001B[1;32m~\\Desktop\\Master\\MA1\\ML\\ML4Science\\predicting-poverty-through-time\\venv\\lib\\site-packages\\pandas\\util\\_decorators.py:211\u001B[0m, in \u001B[0;36mdeprecate_kwarg.<locals>._deprecate_kwarg.<locals>.wrapper\u001B[1;34m(*args, **kwargs)\u001B[0m\n\u001B[0;32m    209\u001B[0m     \u001B[38;5;28;01melse\u001B[39;00m:\n\u001B[0;32m    210\u001B[0m         kwargs[new_arg_name] \u001B[38;5;241m=\u001B[39m new_arg_value\n\u001B[1;32m--> 211\u001B[0m \u001B[38;5;28;01mreturn\u001B[39;00m func(\u001B[38;5;241m*\u001B[39margs, \u001B[38;5;241m*\u001B[39m\u001B[38;5;241m*\u001B[39mkwargs)\n",
      "File \u001B[1;32m~\\Desktop\\Master\\MA1\\ML\\ML4Science\\predicting-poverty-through-time\\venv\\lib\\site-packages\\pandas\\util\\_decorators.py:331\u001B[0m, in \u001B[0;36mdeprecate_nonkeyword_arguments.<locals>.decorate.<locals>.wrapper\u001B[1;34m(*args, **kwargs)\u001B[0m\n\u001B[0;32m    325\u001B[0m \u001B[38;5;28;01mif\u001B[39;00m \u001B[38;5;28mlen\u001B[39m(args) \u001B[38;5;241m>\u001B[39m num_allow_args:\n\u001B[0;32m    326\u001B[0m     warnings\u001B[38;5;241m.\u001B[39mwarn(\n\u001B[0;32m    327\u001B[0m         msg\u001B[38;5;241m.\u001B[39mformat(arguments\u001B[38;5;241m=\u001B[39m_format_argument_list(allow_args)),\n\u001B[0;32m    328\u001B[0m         \u001B[38;5;167;01mFutureWarning\u001B[39;00m,\n\u001B[0;32m    329\u001B[0m         stacklevel\u001B[38;5;241m=\u001B[39mfind_stack_level(),\n\u001B[0;32m    330\u001B[0m     )\n\u001B[1;32m--> 331\u001B[0m \u001B[38;5;28;01mreturn\u001B[39;00m func(\u001B[38;5;241m*\u001B[39margs, \u001B[38;5;241m*\u001B[39m\u001B[38;5;241m*\u001B[39mkwargs)\n",
      "File \u001B[1;32m~\\Desktop\\Master\\MA1\\ML\\ML4Science\\predicting-poverty-through-time\\venv\\lib\\site-packages\\pandas\\io\\parsers\\readers.py:950\u001B[0m, in \u001B[0;36mread_csv\u001B[1;34m(filepath_or_buffer, sep, delimiter, header, names, index_col, usecols, squeeze, prefix, mangle_dupe_cols, dtype, engine, converters, true_values, false_values, skipinitialspace, skiprows, skipfooter, nrows, na_values, keep_default_na, na_filter, verbose, skip_blank_lines, parse_dates, infer_datetime_format, keep_date_col, date_parser, dayfirst, cache_dates, iterator, chunksize, compression, thousands, decimal, lineterminator, quotechar, quoting, doublequote, escapechar, comment, encoding, encoding_errors, dialect, error_bad_lines, warn_bad_lines, on_bad_lines, delim_whitespace, low_memory, memory_map, float_precision, storage_options)\u001B[0m\n\u001B[0;32m    935\u001B[0m kwds_defaults \u001B[38;5;241m=\u001B[39m _refine_defaults_read(\n\u001B[0;32m    936\u001B[0m     dialect,\n\u001B[0;32m    937\u001B[0m     delimiter,\n\u001B[1;32m   (...)\u001B[0m\n\u001B[0;32m    946\u001B[0m     defaults\u001B[38;5;241m=\u001B[39m{\u001B[38;5;124m\"\u001B[39m\u001B[38;5;124mdelimiter\u001B[39m\u001B[38;5;124m\"\u001B[39m: \u001B[38;5;124m\"\u001B[39m\u001B[38;5;124m,\u001B[39m\u001B[38;5;124m\"\u001B[39m},\n\u001B[0;32m    947\u001B[0m )\n\u001B[0;32m    948\u001B[0m kwds\u001B[38;5;241m.\u001B[39mupdate(kwds_defaults)\n\u001B[1;32m--> 950\u001B[0m \u001B[38;5;28;01mreturn\u001B[39;00m \u001B[43m_read\u001B[49m\u001B[43m(\u001B[49m\u001B[43mfilepath_or_buffer\u001B[49m\u001B[43m,\u001B[49m\u001B[43m \u001B[49m\u001B[43mkwds\u001B[49m\u001B[43m)\u001B[49m\n",
      "File \u001B[1;32m~\\Desktop\\Master\\MA1\\ML\\ML4Science\\predicting-poverty-through-time\\venv\\lib\\site-packages\\pandas\\io\\parsers\\readers.py:605\u001B[0m, in \u001B[0;36m_read\u001B[1;34m(filepath_or_buffer, kwds)\u001B[0m\n\u001B[0;32m    602\u001B[0m _validate_names(kwds\u001B[38;5;241m.\u001B[39mget(\u001B[38;5;124m\"\u001B[39m\u001B[38;5;124mnames\u001B[39m\u001B[38;5;124m\"\u001B[39m, \u001B[38;5;28;01mNone\u001B[39;00m))\n\u001B[0;32m    604\u001B[0m \u001B[38;5;66;03m# Create the parser.\u001B[39;00m\n\u001B[1;32m--> 605\u001B[0m parser \u001B[38;5;241m=\u001B[39m TextFileReader(filepath_or_buffer, \u001B[38;5;241m*\u001B[39m\u001B[38;5;241m*\u001B[39mkwds)\n\u001B[0;32m    607\u001B[0m \u001B[38;5;28;01mif\u001B[39;00m chunksize \u001B[38;5;129;01mor\u001B[39;00m iterator:\n\u001B[0;32m    608\u001B[0m     \u001B[38;5;28;01mreturn\u001B[39;00m parser\n",
      "File \u001B[1;32m~\\Desktop\\Master\\MA1\\ML\\ML4Science\\predicting-poverty-through-time\\venv\\lib\\site-packages\\pandas\\io\\parsers\\readers.py:1442\u001B[0m, in \u001B[0;36mTextFileReader.__init__\u001B[1;34m(self, f, engine, **kwds)\u001B[0m\n\u001B[0;32m   1439\u001B[0m     \u001B[38;5;28mself\u001B[39m\u001B[38;5;241m.\u001B[39moptions[\u001B[38;5;124m\"\u001B[39m\u001B[38;5;124mhas_index_names\u001B[39m\u001B[38;5;124m\"\u001B[39m] \u001B[38;5;241m=\u001B[39m kwds[\u001B[38;5;124m\"\u001B[39m\u001B[38;5;124mhas_index_names\u001B[39m\u001B[38;5;124m\"\u001B[39m]\n\u001B[0;32m   1441\u001B[0m \u001B[38;5;28mself\u001B[39m\u001B[38;5;241m.\u001B[39mhandles: IOHandles \u001B[38;5;241m|\u001B[39m \u001B[38;5;28;01mNone\u001B[39;00m \u001B[38;5;241m=\u001B[39m \u001B[38;5;28;01mNone\u001B[39;00m\n\u001B[1;32m-> 1442\u001B[0m \u001B[38;5;28mself\u001B[39m\u001B[38;5;241m.\u001B[39m_engine \u001B[38;5;241m=\u001B[39m \u001B[38;5;28;43mself\u001B[39;49m\u001B[38;5;241;43m.\u001B[39;49m\u001B[43m_make_engine\u001B[49m\u001B[43m(\u001B[49m\u001B[43mf\u001B[49m\u001B[43m,\u001B[49m\u001B[43m \u001B[49m\u001B[38;5;28;43mself\u001B[39;49m\u001B[38;5;241;43m.\u001B[39;49m\u001B[43mengine\u001B[49m\u001B[43m)\u001B[49m\n",
      "File \u001B[1;32m~\\Desktop\\Master\\MA1\\ML\\ML4Science\\predicting-poverty-through-time\\venv\\lib\\site-packages\\pandas\\io\\parsers\\readers.py:1735\u001B[0m, in \u001B[0;36mTextFileReader._make_engine\u001B[1;34m(self, f, engine)\u001B[0m\n\u001B[0;32m   1733\u001B[0m     \u001B[38;5;28;01mif\u001B[39;00m \u001B[38;5;124m\"\u001B[39m\u001B[38;5;124mb\u001B[39m\u001B[38;5;124m\"\u001B[39m \u001B[38;5;129;01mnot\u001B[39;00m \u001B[38;5;129;01min\u001B[39;00m mode:\n\u001B[0;32m   1734\u001B[0m         mode \u001B[38;5;241m+\u001B[39m\u001B[38;5;241m=\u001B[39m \u001B[38;5;124m\"\u001B[39m\u001B[38;5;124mb\u001B[39m\u001B[38;5;124m\"\u001B[39m\n\u001B[1;32m-> 1735\u001B[0m \u001B[38;5;28mself\u001B[39m\u001B[38;5;241m.\u001B[39mhandles \u001B[38;5;241m=\u001B[39m \u001B[43mget_handle\u001B[49m\u001B[43m(\u001B[49m\n\u001B[0;32m   1736\u001B[0m \u001B[43m    \u001B[49m\u001B[43mf\u001B[49m\u001B[43m,\u001B[49m\n\u001B[0;32m   1737\u001B[0m \u001B[43m    \u001B[49m\u001B[43mmode\u001B[49m\u001B[43m,\u001B[49m\n\u001B[0;32m   1738\u001B[0m \u001B[43m    \u001B[49m\u001B[43mencoding\u001B[49m\u001B[38;5;241;43m=\u001B[39;49m\u001B[38;5;28;43mself\u001B[39;49m\u001B[38;5;241;43m.\u001B[39;49m\u001B[43moptions\u001B[49m\u001B[38;5;241;43m.\u001B[39;49m\u001B[43mget\u001B[49m\u001B[43m(\u001B[49m\u001B[38;5;124;43m\"\u001B[39;49m\u001B[38;5;124;43mencoding\u001B[39;49m\u001B[38;5;124;43m\"\u001B[39;49m\u001B[43m,\u001B[49m\u001B[43m \u001B[49m\u001B[38;5;28;43;01mNone\u001B[39;49;00m\u001B[43m)\u001B[49m\u001B[43m,\u001B[49m\n\u001B[0;32m   1739\u001B[0m \u001B[43m    \u001B[49m\u001B[43mcompression\u001B[49m\u001B[38;5;241;43m=\u001B[39;49m\u001B[38;5;28;43mself\u001B[39;49m\u001B[38;5;241;43m.\u001B[39;49m\u001B[43moptions\u001B[49m\u001B[38;5;241;43m.\u001B[39;49m\u001B[43mget\u001B[49m\u001B[43m(\u001B[49m\u001B[38;5;124;43m\"\u001B[39;49m\u001B[38;5;124;43mcompression\u001B[39;49m\u001B[38;5;124;43m\"\u001B[39;49m\u001B[43m,\u001B[49m\u001B[43m \u001B[49m\u001B[38;5;28;43;01mNone\u001B[39;49;00m\u001B[43m)\u001B[49m\u001B[43m,\u001B[49m\n\u001B[0;32m   1740\u001B[0m \u001B[43m    \u001B[49m\u001B[43mmemory_map\u001B[49m\u001B[38;5;241;43m=\u001B[39;49m\u001B[38;5;28;43mself\u001B[39;49m\u001B[38;5;241;43m.\u001B[39;49m\u001B[43moptions\u001B[49m\u001B[38;5;241;43m.\u001B[39;49m\u001B[43mget\u001B[49m\u001B[43m(\u001B[49m\u001B[38;5;124;43m\"\u001B[39;49m\u001B[38;5;124;43mmemory_map\u001B[39;49m\u001B[38;5;124;43m\"\u001B[39;49m\u001B[43m,\u001B[49m\u001B[43m \u001B[49m\u001B[38;5;28;43;01mFalse\u001B[39;49;00m\u001B[43m)\u001B[49m\u001B[43m,\u001B[49m\n\u001B[0;32m   1741\u001B[0m \u001B[43m    \u001B[49m\u001B[43mis_text\u001B[49m\u001B[38;5;241;43m=\u001B[39;49m\u001B[43mis_text\u001B[49m\u001B[43m,\u001B[49m\n\u001B[0;32m   1742\u001B[0m \u001B[43m    \u001B[49m\u001B[43merrors\u001B[49m\u001B[38;5;241;43m=\u001B[39;49m\u001B[38;5;28;43mself\u001B[39;49m\u001B[38;5;241;43m.\u001B[39;49m\u001B[43moptions\u001B[49m\u001B[38;5;241;43m.\u001B[39;49m\u001B[43mget\u001B[49m\u001B[43m(\u001B[49m\u001B[38;5;124;43m\"\u001B[39;49m\u001B[38;5;124;43mencoding_errors\u001B[39;49m\u001B[38;5;124;43m\"\u001B[39;49m\u001B[43m,\u001B[49m\u001B[43m \u001B[49m\u001B[38;5;124;43m\"\u001B[39;49m\u001B[38;5;124;43mstrict\u001B[39;49m\u001B[38;5;124;43m\"\u001B[39;49m\u001B[43m)\u001B[49m\u001B[43m,\u001B[49m\n\u001B[0;32m   1743\u001B[0m \u001B[43m    \u001B[49m\u001B[43mstorage_options\u001B[49m\u001B[38;5;241;43m=\u001B[39;49m\u001B[38;5;28;43mself\u001B[39;49m\u001B[38;5;241;43m.\u001B[39;49m\u001B[43moptions\u001B[49m\u001B[38;5;241;43m.\u001B[39;49m\u001B[43mget\u001B[49m\u001B[43m(\u001B[49m\u001B[38;5;124;43m\"\u001B[39;49m\u001B[38;5;124;43mstorage_options\u001B[39;49m\u001B[38;5;124;43m\"\u001B[39;49m\u001B[43m,\u001B[49m\u001B[43m \u001B[49m\u001B[38;5;28;43;01mNone\u001B[39;49;00m\u001B[43m)\u001B[49m\u001B[43m,\u001B[49m\n\u001B[0;32m   1744\u001B[0m \u001B[43m\u001B[49m\u001B[43m)\u001B[49m\n\u001B[0;32m   1745\u001B[0m \u001B[38;5;28;01massert\u001B[39;00m \u001B[38;5;28mself\u001B[39m\u001B[38;5;241m.\u001B[39mhandles \u001B[38;5;129;01mis\u001B[39;00m \u001B[38;5;129;01mnot\u001B[39;00m \u001B[38;5;28;01mNone\u001B[39;00m\n\u001B[0;32m   1746\u001B[0m f \u001B[38;5;241m=\u001B[39m \u001B[38;5;28mself\u001B[39m\u001B[38;5;241m.\u001B[39mhandles\u001B[38;5;241m.\u001B[39mhandle\n",
      "File \u001B[1;32m~\\Desktop\\Master\\MA1\\ML\\ML4Science\\predicting-poverty-through-time\\venv\\lib\\site-packages\\pandas\\io\\common.py:856\u001B[0m, in \u001B[0;36mget_handle\u001B[1;34m(path_or_buf, mode, encoding, compression, memory_map, is_text, errors, storage_options)\u001B[0m\n\u001B[0;32m    851\u001B[0m \u001B[38;5;28;01melif\u001B[39;00m \u001B[38;5;28misinstance\u001B[39m(handle, \u001B[38;5;28mstr\u001B[39m):\n\u001B[0;32m    852\u001B[0m     \u001B[38;5;66;03m# Check whether the filename is to be opened in binary mode.\u001B[39;00m\n\u001B[0;32m    853\u001B[0m     \u001B[38;5;66;03m# Binary mode does not support 'encoding' and 'newline'.\u001B[39;00m\n\u001B[0;32m    854\u001B[0m     \u001B[38;5;28;01mif\u001B[39;00m ioargs\u001B[38;5;241m.\u001B[39mencoding \u001B[38;5;129;01mand\u001B[39;00m \u001B[38;5;124m\"\u001B[39m\u001B[38;5;124mb\u001B[39m\u001B[38;5;124m\"\u001B[39m \u001B[38;5;129;01mnot\u001B[39;00m \u001B[38;5;129;01min\u001B[39;00m ioargs\u001B[38;5;241m.\u001B[39mmode:\n\u001B[0;32m    855\u001B[0m         \u001B[38;5;66;03m# Encoding\u001B[39;00m\n\u001B[1;32m--> 856\u001B[0m         handle \u001B[38;5;241m=\u001B[39m \u001B[38;5;28;43mopen\u001B[39;49m\u001B[43m(\u001B[49m\n\u001B[0;32m    857\u001B[0m \u001B[43m            \u001B[49m\u001B[43mhandle\u001B[49m\u001B[43m,\u001B[49m\n\u001B[0;32m    858\u001B[0m \u001B[43m            \u001B[49m\u001B[43mioargs\u001B[49m\u001B[38;5;241;43m.\u001B[39;49m\u001B[43mmode\u001B[49m\u001B[43m,\u001B[49m\n\u001B[0;32m    859\u001B[0m \u001B[43m            \u001B[49m\u001B[43mencoding\u001B[49m\u001B[38;5;241;43m=\u001B[39;49m\u001B[43mioargs\u001B[49m\u001B[38;5;241;43m.\u001B[39;49m\u001B[43mencoding\u001B[49m\u001B[43m,\u001B[49m\n\u001B[0;32m    860\u001B[0m \u001B[43m            \u001B[49m\u001B[43merrors\u001B[49m\u001B[38;5;241;43m=\u001B[39;49m\u001B[43merrors\u001B[49m\u001B[43m,\u001B[49m\n\u001B[0;32m    861\u001B[0m \u001B[43m            \u001B[49m\u001B[43mnewline\u001B[49m\u001B[38;5;241;43m=\u001B[39;49m\u001B[38;5;124;43m\"\u001B[39;49m\u001B[38;5;124;43m\"\u001B[39;49m\u001B[43m,\u001B[49m\n\u001B[0;32m    862\u001B[0m \u001B[43m        \u001B[49m\u001B[43m)\u001B[49m\n\u001B[0;32m    863\u001B[0m     \u001B[38;5;28;01melse\u001B[39;00m:\n\u001B[0;32m    864\u001B[0m         \u001B[38;5;66;03m# Binary mode\u001B[39;00m\n\u001B[0;32m    865\u001B[0m         handle \u001B[38;5;241m=\u001B[39m \u001B[38;5;28mopen\u001B[39m(handle, ioargs\u001B[38;5;241m.\u001B[39mmode)\n",
      "\u001B[1;31mFileNotFoundError\u001B[0m: [Errno 2] No such file or directory: '../data/lsms/raw/Mali/2019/MLI_2018_EHCVM_v02_M_CSV/ehcvm_welfare_mli2018.csv'"
     ]
    }
   ],
   "source": [
    "process_all('../data/lsms/processed', metadata)"
   ],
   "metadata": {
    "collapsed": false
   }
  },
  {
   "cell_type": "code",
   "execution_count": null,
   "metadata": {},
   "outputs": [],
   "source": [
    "def run(path: str, nominal: bool = True):\n",
    "    \"\"\"\n",
    "    Helper function to get LSMS. \n",
    "\n",
    "    Args:\n",
    "        path (str): Path to write complete dataframe\n",
    "        nominal (bool): Set mode for nominal or real consumption \n",
    "    \n",
    "    \"\"\"\n",
    "\n",
    "    if nominal:\n",
    "        ppp = 1\n",
    "    else:\n",
    "        ppp = -1\n",
    "    data = metadata\n",
    "    master_df: pd.DataFrame = pd.DataFrame()\n",
    "    for country in tqdm(data):\n",
    "        for year in data[country]:\n",
    "            cur = data[country][year]\n",
    "            if cur[\"special\"]:\n",
    "                if country == \"TZA\" and year == \"2014\":\n",
    "                    tmp_df: pd.DataFrame = tza(cur, year, ppp)\n",
    "                    master_df = pd.concat([master_df, tmp_df])\n",
    "                    continue\n",
    "            lsms = LSMS(country, year, cons_path=f\"../{cur['cons_path']}\", hh_path=f\"../{cur['hh_path']}\", ppp=ppp)\n",
    "            lsms.read_data()\n",
    "            lsms.process_survey(cons_key=cur[\"cons_key\"], hhsize_key=cur[\"hhsize_key\"], lat_key=cur[\"lat_key\"],\n",
    "                                lon_key=cur[\"lon_key\"], hhid_key=cur[\"hhid_key\"], rural_key=cur[\"rural_key\"],\n",
    "                                rural_tag=cur[\"rural\"], urban_tag=cur[\"urban\"], multiply=cur[\"multiply\"])\n",
    "\n",
    "            if nominal:\n",
    "                ending = \"nominal\"\n",
    "            else:\n",
    "                ending = \"real\"\n",
    "\n",
    "            lsms.write_processed(f\"../data/lsms/processed/{country}_{year}_{ending}.csv\")\n",
    "            master_df = pd.concat([master_df, lsms.processed])\n",
    "    master_df.to_csv(path, index=False)"
   ]
  },
  {
   "cell_type": "code",
   "execution_count": null,
   "outputs": [],
   "source": [
    "def runCountry(country: str, year: str, nominal: bool = True):\n",
    "    \"\"\"\n",
    "    Helper function to get LSMS.\n",
    "\n",
    "    Args:\n",
    "        path (str): Path to write complete dataframe\n",
    "        nominal (bool): Set mode for nominal or real consumption\n",
    "\n",
    "    \"\"\"\n",
    "\n",
    "    if nominal:\n",
    "        ppp = 1\n",
    "    else:\n",
    "        ppp = -1\n",
    "\n",
    "    cur = metadata[country][year]\n",
    "    lsms = LSMS(country, year, cons_path=f\"../{cur['cons_path']}\", hh_path=f\"../{cur['hh_path']}\", ppp=ppp)\n",
    "    lsms.read_data()\n",
    "    lsms.process_survey(cons_key=cur[\"cons_key\"], hhsize_key=cur[\"hhsize_key\"], lat_key=cur[\"lat_key\"],\n",
    "                        lon_key=cur[\"lon_key\"], hhid_key=cur[\"hhid_key\"], rural_key=cur[\"rural_key\"],\n",
    "                        rural_tag=cur[\"rural\"], urban_tag=cur[\"urban\"], multiply=cur[\"multiply\"])\n",
    "\n",
    "    if nominal:\n",
    "        ending = \"nominal\"\n",
    "    else:\n",
    "        ending = \"real\"\n",
    "    lsms.write_processed(f\"../data/lsms/processed/{country}_{year}_{ending}.csv\")"
   ],
   "metadata": {
    "collapsed": false
   }
  },
  {
   "cell_type": "code",
   "execution_count": null,
   "outputs": [],
   "source": [
    "runCountry('UGA', '2009', nominal=True)"
   ],
   "metadata": {
    "collapsed": false
   }
  },
  {
   "cell_type": "code",
   "execution_count": null,
   "metadata": {},
   "outputs": [],
   "source": [
    "run(\"../data/lsms/processed/_all_nominal.csv\")\n",
    "run(\"../data/lsms/processed/_all_real.csv\", False)"
   ]
  }
 ],
 "metadata": {
  "kernelspec": {
   "display_name": "Python 3.9.12 64-bit",
   "language": "python",
   "name": "python3"
  },
  "language_info": {
   "codemirror_mode": {
    "name": "ipython",
    "version": 3
   },
   "file_extension": ".py",
   "mimetype": "text/x-python",
   "name": "python",
   "nbconvert_exporter": "python",
   "pygments_lexer": "ipython3",
   "version": "3.9.12"
  },
  "orig_nbformat": 4,
  "vscode": {
   "interpreter": {
    "hash": "b0fa6594d8f4cbf19f97940f81e996739fb7646882a419484c72d19e05852a7e"
   }
  }
 },
 "nbformat": 4,
 "nbformat_minor": 2
}

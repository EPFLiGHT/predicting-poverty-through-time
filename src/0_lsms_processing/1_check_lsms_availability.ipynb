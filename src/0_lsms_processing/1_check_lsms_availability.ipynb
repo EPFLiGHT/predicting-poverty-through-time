{
 "cells": [
  {
   "cell_type": "markdown",
   "metadata": {},
   "source": [
    "# Check available LSMS data\n",
    "Apparently not every country has not a lot of LSMS. In the following code we will check how many countries do have a LSMS and which ones have at least two, so we can perform the time travel. For checking this we are using the [search API](https://microdata.worldbank.org/api-documentation/catalog/index.html#operation/CatalogSearch) provided by the World Bank. We search for the keyword (the parameter `sk`) LSMS and specify the country by using the parameter `country`. For the country we use the ISO."
   ]
  },
  {
   "cell_type": "code",
   "execution_count": 20,
   "metadata": {},
   "outputs": [],
   "source": [
    "from tqdm import tqdm \n",
    "import pandas as pd\n",
    "import requests"
   ]
  },
  {
   "cell_type": "code",
   "execution_count": 21,
   "metadata": {},
   "outputs": [],
   "source": [
    "base_url: str = \"https://microdata.worldbank.org/index.php/api/catalog/search?sk=lsms&country=\""
   ]
  },
  {
   "cell_type": "code",
   "execution_count": 22,
   "metadata": {},
   "outputs": [],
   "source": [
    "df: pd.DataFrame = pd.read_csv(\"../../data/countries_meta/countries_code.csv\", index_col=False)"
   ]
  },
  {
   "cell_type": "code",
   "execution_count": 24,
   "metadata": {},
   "outputs": [
    {
     "name": "stderr",
     "output_type": "stream",
     "text": [
      " 14%|█▎        | 7/51 [00:05<00:44,  1.02s/it]/var/folders/v2/6cxx8khs0hs5nml1jx68qgk40000gn/T/ipykernel_10176/1422777032.py:27: FutureWarning: The frame.append method is deprecated and will be removed from pandas in a future version. Use pandas.concat instead.\n",
      "  valid = valid.append(tmp_df)\n",
      " 18%|█▊        | 9/51 [00:07<00:34,  1.20it/s]/var/folders/v2/6cxx8khs0hs5nml1jx68qgk40000gn/T/ipykernel_10176/1422777032.py:30: FutureWarning: The frame.append method is deprecated and will be removed from pandas in a future version. Use pandas.concat instead.\n",
      "  time_valid = time_valid.append(tmp_df)\n",
      " 35%|███▌      | 18/51 [00:12<00:20,  1.63it/s]/var/folders/v2/6cxx8khs0hs5nml1jx68qgk40000gn/T/ipykernel_10176/1422777032.py:27: FutureWarning: The frame.append method is deprecated and will be removed from pandas in a future version. Use pandas.concat instead.\n",
      "  valid = valid.append(tmp_df)\n",
      " 39%|███▉      | 20/51 [00:13<00:18,  1.64it/s]/var/folders/v2/6cxx8khs0hs5nml1jx68qgk40000gn/T/ipykernel_10176/1422777032.py:30: FutureWarning: The frame.append method is deprecated and will be removed from pandas in a future version. Use pandas.concat instead.\n",
      "  time_valid = time_valid.append(tmp_df)\n",
      " 41%|████      | 21/51 [00:14<00:18,  1.64it/s]/var/folders/v2/6cxx8khs0hs5nml1jx68qgk40000gn/T/ipykernel_10176/1422777032.py:30: FutureWarning: The frame.append method is deprecated and will be removed from pandas in a future version. Use pandas.concat instead.\n",
      "  time_valid = time_valid.append(tmp_df)\n",
      " 49%|████▉     | 25/51 [00:16<00:15,  1.68it/s]/var/folders/v2/6cxx8khs0hs5nml1jx68qgk40000gn/T/ipykernel_10176/1422777032.py:27: FutureWarning: The frame.append method is deprecated and will be removed from pandas in a future version. Use pandas.concat instead.\n",
      "  valid = valid.append(tmp_df)\n",
      " 53%|█████▎    | 27/51 [00:17<00:14,  1.65it/s]/var/folders/v2/6cxx8khs0hs5nml1jx68qgk40000gn/T/ipykernel_10176/1422777032.py:30: FutureWarning: The frame.append method is deprecated and will be removed from pandas in a future version. Use pandas.concat instead.\n",
      "  time_valid = time_valid.append(tmp_df)\n",
      " 55%|█████▍    | 28/51 [00:18<00:13,  1.65it/s]/var/folders/v2/6cxx8khs0hs5nml1jx68qgk40000gn/T/ipykernel_10176/1422777032.py:30: FutureWarning: The frame.append method is deprecated and will be removed from pandas in a future version. Use pandas.concat instead.\n",
      "  time_valid = time_valid.append(tmp_df)\n",
      " 57%|█████▋    | 29/51 [00:19<00:13,  1.65it/s]/var/folders/v2/6cxx8khs0hs5nml1jx68qgk40000gn/T/ipykernel_10176/1422777032.py:27: FutureWarning: The frame.append method is deprecated and will be removed from pandas in a future version. Use pandas.concat instead.\n",
      "  valid = valid.append(tmp_df)\n",
      " 63%|██████▎   | 32/51 [00:20<00:11,  1.67it/s]/var/folders/v2/6cxx8khs0hs5nml1jx68qgk40000gn/T/ipykernel_10176/1422777032.py:27: FutureWarning: The frame.append method is deprecated and will be removed from pandas in a future version. Use pandas.concat instead.\n",
      "  valid = valid.append(tmp_df)\n",
      " 67%|██████▋   | 34/51 [00:22<00:10,  1.68it/s]/var/folders/v2/6cxx8khs0hs5nml1jx68qgk40000gn/T/ipykernel_10176/1422777032.py:30: FutureWarning: The frame.append method is deprecated and will be removed from pandas in a future version. Use pandas.concat instead.\n",
      "  time_valid = time_valid.append(tmp_df)\n",
      " 71%|███████   | 36/51 [00:23<00:08,  1.68it/s]/var/folders/v2/6cxx8khs0hs5nml1jx68qgk40000gn/T/ipykernel_10176/1422777032.py:30: FutureWarning: The frame.append method is deprecated and will be removed from pandas in a future version. Use pandas.concat instead.\n",
      "  time_valid = time_valid.append(tmp_df)\n",
      " 78%|███████▊  | 40/51 [00:25<00:06,  1.68it/s]/var/folders/v2/6cxx8khs0hs5nml1jx68qgk40000gn/T/ipykernel_10176/1422777032.py:27: FutureWarning: The frame.append method is deprecated and will be removed from pandas in a future version. Use pandas.concat instead.\n",
      "  valid = valid.append(tmp_df)\n",
      " 80%|████████  | 41/51 [00:26<00:05,  1.67it/s]/var/folders/v2/6cxx8khs0hs5nml1jx68qgk40000gn/T/ipykernel_10176/1422777032.py:30: FutureWarning: The frame.append method is deprecated and will be removed from pandas in a future version. Use pandas.concat instead.\n",
      "  time_valid = time_valid.append(tmp_df)\n",
      " 82%|████████▏ | 42/51 [00:26<00:05,  1.67it/s]/var/folders/v2/6cxx8khs0hs5nml1jx68qgk40000gn/T/ipykernel_10176/1422777032.py:30: FutureWarning: The frame.append method is deprecated and will be removed from pandas in a future version. Use pandas.concat instead.\n",
      "  time_valid = time_valid.append(tmp_df)\n",
      " 84%|████████▍ | 43/51 [00:27<00:04,  1.66it/s]/var/folders/v2/6cxx8khs0hs5nml1jx68qgk40000gn/T/ipykernel_10176/1422777032.py:30: FutureWarning: The frame.append method is deprecated and will be removed from pandas in a future version. Use pandas.concat instead.\n",
      "  time_valid = time_valid.append(tmp_df)\n",
      " 90%|█████████ | 46/51 [00:29<00:03,  1.66it/s]/var/folders/v2/6cxx8khs0hs5nml1jx68qgk40000gn/T/ipykernel_10176/1422777032.py:30: FutureWarning: The frame.append method is deprecated and will be removed from pandas in a future version. Use pandas.concat instead.\n",
      "  time_valid = time_valid.append(tmp_df)\n",
      "100%|██████████| 51/51 [00:32<00:00,  1.58it/s]\n"
     ]
    }
   ],
   "source": [
    "time_valid: pd.DataFrame = pd.DataFrame() # dataframe with country, iso, year and url for time travel\n",
    "valid: pd.DataFrame = pd.DataFrame() # dataframe with country, iso, year and url for only one LSMS\n",
    "\n",
    "for _, country in tqdm(df.iterrows(), total=len(df)):\n",
    "    result: any = requests.get(base_url + country[\"iso\"]).json()\n",
    "    result = result[\"result\"]\n",
    "\n",
    "    if result[\"found\"] == 0:\n",
    "        continue\n",
    "    \n",
    "    count_valid: int = 0 # counter to count valid results\n",
    "    years = [] # save years\n",
    "    urls = [] # save urls\n",
    "    for res in result[\"rows\"]:\n",
    "\n",
    "        if len(res[\"nation\"].split(\",\")) > 1: # only if the country is alone in the `nation` tag, it is the desired data\n",
    "            continue\n",
    "        \n",
    "        years.append(res[\"year_end\"])\n",
    "        urls.append(res[\"url\"])\n",
    "        count_valid += 1\n",
    "    \n",
    "    if count_valid > 0: # we just need to create a dataframe when, we found something\n",
    "        tmp_df: pd.DataFrame = pd.DataFrame.from_dict({\"name\": country[\"name\"], \"iso\": country[\"iso\"], \"year\": years, \"url\": urls})\n",
    "       \n",
    "    if count_valid == 1:\n",
    "        valid = valid.append(tmp_df)\n",
    "    \n",
    "    if count_valid > 1:\n",
    "        time_valid = time_valid.append(tmp_df)"
   ]
  },
  {
   "cell_type": "code",
   "execution_count": 19,
   "metadata": {},
   "outputs": [],
   "source": [
    "valid.to_csv(\"../../data/countries_meta/counties_lsms_valid.csv\", index=False)\n",
    "time_valid.to_csv(\"../../data/countries_meta/counties_lsms_time_valid.csv\", index=False)"
   ]
  }
 ],
 "metadata": {
  "kernelspec": {
   "display_name": "Python 3.9.12 64-bit",
   "language": "python",
   "name": "python3"
  },
  "language_info": {
   "codemirror_mode": {
    "name": "ipython",
    "version": 3
   },
   "file_extension": ".py",
   "mimetype": "text/x-python",
   "name": "python",
   "nbconvert_exporter": "python",
   "pygments_lexer": "ipython3",
   "version": "3.9.12"
  },
  "orig_nbformat": 4,
  "vscode": {
   "interpreter": {
    "hash": "b0fa6594d8f4cbf19f97940f81e996739fb7646882a419484c72d19e05852a7e"
   }
  }
 },
 "nbformat": 4,
 "nbformat_minor": 2
}

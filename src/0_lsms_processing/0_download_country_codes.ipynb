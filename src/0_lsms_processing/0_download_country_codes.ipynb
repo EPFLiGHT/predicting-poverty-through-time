{
 "cells": [
  {
   "cell_type": "markdown",
   "metadata": {},
   "source": [
    "# Download Countries Code\n",
    "\n",
    "This code will download the country code aligned with the ISO used by the World Bank. The alignment is important, since we will use the LSMS collected by the world bank and with the correct codes, we can autotomize some parts.  We load the list of all Sub-Saharan Africa from [Wikipedia](https://en.wikipedia.org/wiki/Sub-Saharan_Africa) and get the country codes from the [World Bank API](https://microdata.worldbank.org/api-documentation/catalog/index.html#operation/listCountryCodes). Since the name are not always same, I did the work and added the missing countries by hand."
   ]
  },
  {
   "cell_type": "code",
   "execution_count": 36,
   "metadata": {},
   "outputs": [],
   "source": [
    "import pandas as pd\n",
    "import requests"
   ]
  },
  {
   "cell_type": "code",
   "execution_count": 37,
   "metadata": {},
   "outputs": [],
   "source": [
    "df: pd.DataFrame = pd.read_csv(\"../../data/countries_meta/countries.csv\")\n",
    "countries: set[str] = set(df[\"country\"])"
   ]
  },
  {
   "cell_type": "code",
   "execution_count": 38,
   "metadata": {},
   "outputs": [],
   "source": [
    "url: str = \"https://microdata.worldbank.org/index.php/api/catalog/country_codes\"\n",
    "codes: any = requests.get(url).json()"
   ]
  },
  {
   "cell_type": "code",
   "execution_count": 39,
   "metadata": {},
   "outputs": [],
   "source": [
    "def diff(l1: list[any], l2: list[any]) -> list[any]:\n",
    "\t\"\"\"Get difference between two lists. \n",
    "\n",
    "\tArgs:\n",
    "\t\tl1 (list[any]): list 1\n",
    "\t\tl2 (list[any]): list 2\n",
    "\n",
    "\tReturns:\n",
    "\t\tA list of the different values. \n",
    "\t\"\"\"\n",
    "\treturn list(set(l1) - set(l2)) + list(set(l2) - set(l1))"
   ]
  },
  {
   "cell_type": "code",
   "execution_count": 40,
   "metadata": {},
   "outputs": [],
   "source": [
    "countries_code: dict[list[str], list[str]] = {\n",
    "    \"name\": [],\n",
    "    \"iso\": []\n",
    "}\n",
    "verify: list[str] = []\n",
    "for code in codes[\"country_codes\"]:\n",
    "    if code[\"name\"] in countries:\n",
    "        countries_code[\"name\"].append(code[\"name\"])\n",
    "        countries_code[\"iso\"].append(code[\"iso\"])\n",
    "        verify.append(code[\"name\"])"
   ]
  },
  {
   "cell_type": "code",
   "execution_count": 41,
   "metadata": {},
   "outputs": [
    {
     "data": {
      "text/plain": "['Cape Verde', 'Republic of the Congo', 'Democratic Republic of the Congo']"
     },
     "execution_count": 41,
     "metadata": {},
     "output_type": "execute_result"
    }
   ],
   "source": [
    "diff(verify, df[\"country\"]) # output for manual work"
   ]
  },
  {
   "cell_type": "code",
   "execution_count": 42,
   "metadata": {},
   "outputs": [],
   "source": [
    "countries_code[\"name\"].append(\"Republic of the Congo\")\n",
    "countries_code[\"iso\"].append(\"COG\")\n",
    "countries_code[\"name\"].append(\"Democratic Republic of the Congo\")\n",
    "countries_code[\"iso\"].append(\"COD\")\n",
    "countries_code[\"name\"].append(\"Ivory Coast\")\n",
    "countries_code[\"iso\"].append(\"CI\")\n",
    "countries_code[\"name\"].append(\"Cabo Verde\")\n",
    "countries_code[\"iso\"].append(\"CPV\")"
   ]
  },
  {
   "cell_type": "code",
   "execution_count": 44,
   "metadata": {},
   "outputs": [],
   "source": [
    "pd.DataFrame.from_dict(countries_code).to_csv(\"../../data/countries_meta/countries_code.csv\", index=False)"
   ]
  }
 ],
 "metadata": {
  "kernelspec": {
   "display_name": "Python 3.9.12 64-bit",
   "language": "python",
   "name": "python3"
  },
  "language_info": {
   "codemirror_mode": {
    "name": "ipython",
    "version": 3
   },
   "file_extension": ".py",
   "mimetype": "text/x-python",
   "name": "python",
   "nbconvert_exporter": "python",
   "pygments_lexer": "ipython3",
   "version": "3.9.12"
  },
  "orig_nbformat": 4,
  "vscode": {
   "interpreter": {
    "hash": "b0fa6594d8f4cbf19f97940f81e996739fb7646882a419484c72d19e05852a7e"
   }
  }
 },
 "nbformat": 4,
 "nbformat_minor": 2
}
